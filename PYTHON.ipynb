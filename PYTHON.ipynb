{
 "cells": [
  {
   "cell_type": "markdown",
   "id": "1d05ef7c",
   "metadata": {},
   "source": [
    "## Classes in python "
   ]
  },
  {
   "cell_type": "code",
   "execution_count": null,
   "id": "d399f105",
   "metadata": {},
   "outputs": [],
   "source": [
    "\n",
    "# Define Class\n",
    "class Employee :\n",
    "    employee_id =0\n",
    "\n",
    "## Create two objects of the employee1    \n"
   ]
  }
 ],
 "metadata": {
  "language_info": {
   "name": "python"
  }
 },
 "nbformat": 4,
 "nbformat_minor": 5
}
